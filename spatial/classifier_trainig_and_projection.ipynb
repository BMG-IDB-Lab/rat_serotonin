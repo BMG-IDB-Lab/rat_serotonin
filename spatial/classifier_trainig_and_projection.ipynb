{
 "cells": [
  {
   "cell_type": "code",
   "execution_count": 1,
   "id": "47e27584-9d40-4087-a45a-9176243e5998",
   "metadata": {},
   "outputs": [
    {
     "name": "stderr",
     "output_type": "stream",
     "text": [
      "/home/z.starinnov/miniforge3/envs/scvi_env/lib/python3.12/site-packages/tqdm/auto.py:21: TqdmWarning: IProgress not found. Please update jupyter and ipywidgets. See https://ipywidgets.readthedocs.io/en/stable/user_install.html\n",
      "  from .autonotebook import tqdm as notebook_tqdm\n"
     ]
    }
   ],
   "source": [
    "#Importing standart libraries\n",
    "import seaborn as sns\n",
    "import pandas as pd\n",
    "import numpy as np\n",
    "import os\n",
    "import glob\n",
    "#Additional stuff for plotting\n",
    "import matplotlib.pyplot as plt\n",
    "import matplotlib.colors as mcol\n",
    "import matplotlib.cm as cm\n",
    "import matplotlib.patches as mpatches\n",
    "\n",
    "#scRNA-seq toolkit\n",
    "import anndata\n",
    "import scanpy as sc\n",
    "import scvi\n",
    "\n",
    "#Libraries for working with matrices and predictions evaluations\n",
    "from scipy.sparse import csr_matrix\n",
    "import numba\n",
    "import pynndescent\n",
    "from scvi.model.utils import mde\n",
    "\n",
    "#Muting annoying things\n",
    "import warnings\n",
    "warnings.simplefilter(action='ignore', category=FutureWarning)\n",
    "\n",
    "#Importing some other stuff from our module\n",
    "from utils_and_functions import *"
   ]
  },
  {
   "cell_type": "markdown",
   "id": "1ec1d5d1-3b1c-4f46-a97c-6bf6b3c00776",
   "metadata": {},
   "source": [
    "## Model training and implementation"
   ]
  },
  {
   "cell_type": "code",
   "execution_count": null,
   "id": "4abbe400-2820-4f4e-a823-e20dae4bfaf6",
   "metadata": {},
   "outputs": [],
   "source": [
    "## Read subsetted MERFISH dataset with hypothalamic neurons for scVI model training (can be found on Zenodo)\n",
    "adata = sc.read_h5ad('../merfish_neurons_spatial.h5ad')"
   ]
  },
  {
   "cell_type": "code",
   "execution_count": null,
   "id": "69c041eb-ea68-4325-bc69-da9a981e5b22",
   "metadata": {},
   "outputs": [],
   "source": [
    "## Training model and creating a dataset for future projection\n",
    "adata.layers['counts'] = adata.X.copy()\n",
    "scvi.model.SCVI.setup_anndata(adata, layer = \"counts\")\n",
    "\n",
    "model = scvi.model.SCVI(adata)\n",
    "model.train(max_epochs = 400, early_stopping = True,batch_size=100)\n",
    "\n",
    "adata.obsm['X_scVI'] = model.get_latent_representation()\n",
    "adata.layers['scvi_normalized'] = model.get_normalized_expression(library_size = 1e4)\n",
    "\n",
    "sc.pp.neighbors(adata, use_rep = 'X_scVI')\n",
    "sc.tl.tsne(adata)\n",
    "\n",
    "adata.write_h5ad('../model_path/model_adata.h5ad')\n",
    "model.save('../model_path/', overwrite=True)"
   ]
  },
  {
   "cell_type": "code",
   "execution_count": null,
   "id": "412c2097-307c-4a66-a414-8d581a19e987",
   "metadata": {},
   "outputs": [],
   "source": [
    "## Read input file\n",
    "adata_input = sc.read('../input_path/')"
   ]
  },
  {
   "cell_type": "code",
   "execution_count": null,
   "id": "6b153663-b822-4d6e-bb61-ea893b1d5842",
   "metadata": {},
   "outputs": [],
   "source": [
    "## Perform standatd sc-preprocessing and clustering on sc-dataset\n",
    "adata_input = do_tsne(adata_input, resolution = 1)"
   ]
  },
  {
   "cell_type": "code",
   "execution_count": null,
   "id": "e02b2385-8c73-44a6-a1c4-6809c856a121",
   "metadata": {},
   "outputs": [],
   "source": [
    "## Read model weigths path and model dataset \n",
    "adata_hypomap = sc.read('../model_path/model_adata.h5ad')\n",
    "model_path = '../model_path/'"
   ]
  },
  {
   "cell_type": "code",
   "execution_count": null,
   "id": "ca1632f6-3e92-43d6-b80e-13186710dd43",
   "metadata": {},
   "outputs": [],
   "source": [
    "## Feed each cluster of adata_input into a model and calculate labeling with PyNNdescent\n",
    "out = []\n",
    "for i in np.unique(adata_input.obs.clusters):\n",
    "    adata_query = adata_input[adata_input.obs.clusters == i]\n",
    "    adata_query.layers['counts'] = adata_query.X.copy()\n",
    "    vars = scvi.model.SCVI.prepare_query_anndata(adata_query, model_path,return_reference_var_names = True)\n",
    "    del adata_query.varm\n",
    "    scvi.model.SCVI.prepare_query_anndata(adata_query, model_path)\n",
    "    vae_query = scvi.model.SCVI.load_query_data(\n",
    "    adata_query,\n",
    "    model_path)\n",
    "    vae_query.train(max_epochs=400, plan_kwargs=dict(weight_decay=0.0))\n",
    "    adata_query.obsm[\"X_scVI\"] = vae_query.get_latent_representation()\n",
    "    \n",
    "    ## calculate UMAP based on hypoMAP:\n",
    "    sc.pp.neighbors(adata_query, use_rep=\"X_scVI\")\n",
    "    sc.tl.leiden(adata_query)\n",
    "    sc.tl.umap(adata_query)  \n",
    "    \n",
    "    X_train = adata_hypomap.obsm[\"X_scVI\"]\n",
    "    ref_nn_index = pynndescent.NNDescent(X_train)\n",
    "    ref_nn_index.prepare()\n",
    "    \n",
    "    ref_emb = sc.AnnData(X_train, obs=adata_hypomap.obs)\n",
    "    print(ref_emb)\n",
    "    \n",
    "    query_emb = sc.AnnData(vae_query.get_latent_representation())\n",
    "    query_emb.obs_names = adata_query.obs_names\n",
    "    ref_neighbors, ref_distances = ref_nn_index.query(query_emb.X)\n",
    "    \n",
    "    \n",
    "    \n",
    "    # convert distances to affinities\n",
    "    stds = np.std(ref_distances, axis=1)\n",
    "    stds = (2.0 / stds) ** 2\n",
    "    stds = stds.reshape(-1, 1)\n",
    "    ref_distances_tilda = np.exp(-np.true_divide(ref_distances, stds))\n",
    "    weights = ref_distances_tilda / np.sum(ref_distances_tilda, axis=1, keepdims=True)\n",
    "    label_keys = ['clusters']\n",
    "    for l in label_keys:\n",
    "        ref_cats = adata_hypomap.obs[l].astype('category').cat.codes.to_numpy()[ref_neighbors]\n",
    "        p, u = weighted_prediction(weights, ref_cats)\n",
    "        p = np.asarray(adata_hypomap.obs[l].astype('category').cat.categories)[p]\n",
    "        query_emb.obs[l + \"_pred\"], query_emb.obs[l + \"_uncertainty\"] = p, u\n",
    "    \n",
    "    combined_emb = ref_emb.concatenate(query_emb)\n",
    "    combined_emb.obsm[\"X_mde\"] = mde(combined_emb.X, init=\"random\")\n",
    "    colors = [l + \"_uncertainty\" for l in label_keys]\n",
    "    sc.pl.embedding(\n",
    "        combined_emb,\n",
    "        basis=\"X_mde\",\n",
    "        color=colors)\n",
    "    \n",
    "    colors = [l + \"_pred\" for l in label_keys]\n",
    "    ## Uncomment if you want to see each projection on mde embedding\n",
    "    ##sc.pl.embedding(combined_emb, basis=\"X_mde\", color=colors, ncols=1, size=40)\n",
    "    out.append(query_emb)"
   ]
  },
  {
   "cell_type": "code",
   "execution_count": null,
   "id": "4dff919f-e27f-4159-9ef0-2b40d18e8c8c",
   "metadata": {},
   "outputs": [],
   "source": [
    "## Concatanate and filter resulting predictions. Personally I prefer level of uncertainty at 0.4 but you can use harsher one\n",
    "projections = sc.concat(out)\n",
    "projections = projections[(projections.obs.clusters_uncertainty<0.4)"
   ]
  },
  {
   "cell_type": "code",
   "execution_count": null,
   "id": "a51a51e5-0020-4735-b7e2-8c0c0af592e5",
   "metadata": {},
   "outputs": [],
   "source": [
    "##Print distiribution of projections for each sc-cluster of input data\n",
    "for i in np.unique(projections.obs.clust):\n",
    "    a,b = np.unique(projections[(projections.obs.clust == i)].obs.clusters_pred, return_counts=True)\n",
    "    print('---------')\n",
    "    print(i)\n",
    "    for j in range(len(a)):\n",
    "        print(a[j], round(b[j]*100/sum(b)), '%')\n",
    "    print('---------')"
   ]
  },
  {
   "cell_type": "markdown",
   "id": "adeeaca2-466e-4fc9-b9be-423dfdd1d3b4",
   "metadata": {},
   "source": [
    "## Projecting back on hypothtlamic slices"
   ]
  },
  {
   "cell_type": "markdown",
   "id": "fd4af409-d133-4b69-b550-604326c616be",
   "metadata": {},
   "source": [
    "Metadata for MERFISH can be downloaded from \n",
    "\n",
    "https://allen-brain-cell-atlas.s3.us-west-2.amazonaws.com/index.html#metadata/Zhuang-ABCA-1/\n",
    "\n",
    "https://allen-brain-cell-atlas.s3.us-west-2.amazonaws.com/index.html#metadata/Zhuang-ABCA-2/"
   ]
  },
  {
   "cell_type": "markdown",
   "id": "052a988d-b112-477a-bc33-d4f6fd3677f6",
   "metadata": {},
   "source": [
    "Following code was taken from https://github.com/AllenInstitute/abc_atlas_access/blob/main/notebooks/zhuang_merfish_tutorial.ipynb"
   ]
  },
  {
   "cell_type": "code",
   "execution_count": null,
   "id": "46b63422-450c-4e0d-b55c-70c8477bf31c",
   "metadata": {},
   "outputs": [],
   "source": [
    "dir_list = ['coronal1', 'coronal2']\n",
    "\n",
    "cell = {}\n",
    "for d in dir_list:\n",
    "    cell[d] = pd.read_csv(f'../{d}/cell_metadata.csv')\n",
    "    \n",
    "    cell[d].set_index('cell_label', inplace=True)\n",
    "    \n",
    "    sdf = cell[d].groupby('brain_section_label')\n",
    "    \n",
    "    print(d,\":\",\"Number of cells = \", len(cell[d]), \", \", \"Number of sections =\", len(sdf))"
   ]
  },
  {
   "cell_type": "markdown",
   "id": "e2bc95a4-5a5a-45bb-8115-e40f622d4240",
   "metadata": {},
   "source": [
    "Files for WMB annotation can be found at:\n",
    "\n",
    "https://allen-brain-cell-atlas.s3.us-west-2.amazonaws.com/index.html#metadata/WMB-taxonomy/20231215/views/"
   ]
  },
  {
   "cell_type": "code",
   "execution_count": null,
   "id": "c969dd79-7e20-4357-a054-9701ec5f90a0",
   "metadata": {},
   "outputs": [],
   "source": [
    "cluster_colors= pd.read_csv('../WMB-taxonomy/20231215/views/cluster_to_cluster_annotation_membership_color.csv')\n",
    "cluster_colors.set_index('cluster_alias', inplace=True)\n",
    "cluster_details = pd.read_csv('../WMB-taxonomy/20231215/views/cluster_to_cluster_annotation_membership_pivoted.csv')\n",
    "cluster_details.set_index('cluster_alias', inplace=True)"
   ]
  },
  {
   "cell_type": "code",
   "execution_count": null,
   "id": "023a87da-522a-4a8e-87dc-98f288056495",
   "metadata": {},
   "outputs": [],
   "source": [
    "cell_extended = {}\n",
    "\n",
    "for d in dir_list:\n",
    "    cell_extended[d] = cell[d].join(cluster_details, on='cluster_alias')\n",
    "    cell_extended[d] = cell_extended[d].join(cluster_colors, on='cluster_alias')"
   ]
  },
  {
   "cell_type": "code",
   "execution_count": null,
   "id": "17c4b981-1a46-4a70-91e9-c93694576fca",
   "metadata": {},
   "outputs": [],
   "source": [
    "ccf_coordinates = {}\n",
    "\n",
    "for d in dir_list :\n",
    "\n",
    "    ccf_coordinates[d] = pd.read_csv(f'../{d}/ccf_coordinates.csv')\n",
    "    ccf_coordinates[d].set_index('cell_label', inplace=True)\n",
    "    ccf_coordinates[d].rename(columns={'x': 'x_ccf',\n",
    "                                       'y': 'y_ccf',\n",
    "                                       'z': 'z_ccf'},\n",
    "                              inplace=True)\n",
    "    \n",
    "    cell_extended[d] = cell_extended[d].join(ccf_coordinates[d], how='inner')"
   ]
  },
  {
   "cell_type": "markdown",
   "id": "34b019d2-20bf-47b9-8402-cb2fe85a4b93",
   "metadata": {},
   "source": [
    "Parcellation annotation can be downloaded at:\n",
    "\n",
    "https://allen-brain-cell-atlas.s3.us-west-2.amazonaws.com/index.html#metadata/Allen-CCF-2020/20230630/"
   ]
  },
  {
   "cell_type": "code",
   "execution_count": null,
   "id": "b3c29cc1-9eae-47d2-9695-38e809534813",
   "metadata": {},
   "outputs": [],
   "source": [
    "parcellation_annotation = pd.read_csv('../abc/metadata/Allen-CCF-2020/20230630/views/parcellation_to_parcellation_term_membership_acronym.csv')\n",
    "parcellation_annotation.set_index('parcellation_index', inplace=True)\n",
    "\n",
    "parcellation_color = pd.read_csv('../abc/metadata/Allen-CCF-2020/20230630/views/parcellation_to_parcellation_term_membership_color.csv')\n",
    "parcellation_color.set_index('parcellation_index', inplace=True)\n",
    "\n",
    "parcellation_color.columns = ['parcellation_%s'% x for x in  parcellation_color.columns]"
   ]
  },
  {
   "cell_type": "code",
   "execution_count": null,
   "id": "fa9b40e3-6e0e-45d8-bc8e-e6820388d499",
   "metadata": {},
   "outputs": [],
   "source": [
    "for d in dir_list :\n",
    "    cell_extended[d] = cell_extended[d].join(parcellation_annotation, on='parcellation_index')\n",
    "    cell_extended[d] = cell_extended[d].join(parcellation_color, on='parcellation_index')"
   ]
  },
  {
   "cell_type": "code",
   "execution_count": null,
   "id": "1e52a56b-d40f-4e5c-b91f-9a2413cc69bf",
   "metadata": {},
   "outputs": [],
   "source": [
    "## Get final metadata dataframe with all required information for plottting slices\n",
    "meta_all = pd.concat([cell_extended['coronal1'],cell_extended['coronal2']])"
   ]
  },
  {
   "cell_type": "code",
   "execution_count": null,
   "id": "7b092421-cec7-4ddb-9131-8c3bd888a236",
   "metadata": {},
   "outputs": [],
   "source": [
    "## Read spatial data\n",
    "adata_spatial = sc.read_h5ad('../merfish_neurons_spatial.h5ad')"
   ]
  },
  {
   "cell_type": "code",
   "execution_count": null,
   "id": "f4cff424-58e7-4d64-9fad-7cf1008488f9",
   "metadata": {},
   "outputs": [],
   "source": [
    "## Transfer labels and their colors from spatial data to metadata dataframe\n",
    "meta_exp = meta_all\n",
    "names=[]\n",
    "for i in range(81):\n",
    "    names.append(f'{i}')\n",
    "#names.append('no_cluster')\n",
    "\n",
    "meta_exp['clusters'] = 'no_cluster'\n",
    "\n",
    "meta_exp.loc[adata_spatial.obs.index, 'clusters'] = adata_spatial.obs.clusters\n",
    "\n",
    "clust_colors = adata_spatial.uns['clusters_colors'][0:81]\n",
    "\n",
    "clust_dict={}\n",
    "for A, B in zip(names, clust_colors):\n",
    "    clust_dict[A] = B\n",
    "clust_dict['no_cluster']='#D3D3D3'\n",
    "\n",
    "meta_exp['clusters_colors']=meta_exp.clusters.map(clust_dict)"
   ]
  },
  {
   "cell_type": "code",
   "execution_count": null,
   "id": "2e8338b4-3b2b-48bc-b1f8-0afbd6a4a6b0",
   "metadata": {},
   "outputs": [],
   "source": [
    "## Plot sc-clusters from spatial adata on MERFISH slices\n",
    "ploting_all_sections(meta_exp, 'clusters', 'clusters_colors', name = temp)"
   ]
  }
 ],
 "metadata": {
  "kernelspec": {
   "display_name": "Python 3 (ipykernel)",
   "language": "python",
   "name": "python3"
  },
  "language_info": {
   "codemirror_mode": {
    "name": "ipython",
    "version": 3
   },
   "file_extension": ".py",
   "mimetype": "text/x-python",
   "name": "python",
   "nbconvert_exporter": "python",
   "pygments_lexer": "ipython3",
   "version": "3.12.3"
  }
 },
 "nbformat": 4,
 "nbformat_minor": 5
}
